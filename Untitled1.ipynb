{
 "cells": [
  {
   "cell_type": "code",
   "execution_count": 1,
   "id": "f723edf6",
   "metadata": {},
   "outputs": [],
   "source": [
    "import pandas as pd\n",
    "import os\n",
    "import json\n",
    "from keras.callbacks import EarlyStopping, ModelCheckpoint, TensorBoard\n",
    "%matplotlib inline\n",
    "from matplotlib import pyplot as plt\n",
    "import seaborn as sns\n",
    "from pathlib import Path\n",
    "from Scripts.models import FacePrediction\n",
    "import glob"
   ]
  },
  {
   "cell_type": "code",
   "execution_count": 35,
   "id": "5cd73bc0",
   "metadata": {},
   "outputs": [],
   "source": [
    "mode = 'predict' #'train' or 'predict'\n",
    "model_type = 'vgg16'\n",
    "model_tag = 'base'\n",
    "model_id = '{:s}_{:s}'.format(model_type, model_tag)\n",
    "model_dir = './saved_model/model_{:s}.h5'.format(model_id)\n",
    "bs = 8\n",
    "epochs = 2\n",
    "freeze_backbone = True # True => transfer learning; False => train from scratch"
   ]
  },
  {
   "cell_type": "code",
   "execution_count": 36,
   "id": "e9a040f6",
   "metadata": {},
   "outputs": [],
   "source": [
    "model = FacePrediction(img_dir = './data/face_aligned/', model_type = model_type)\n",
    "model.define_model(freeze_backbone = freeze_backbone)\n",
    "model.load_weights(model_dir)"
   ]
  },
  {
   "cell_type": "code",
   "execution_count": 21,
   "id": "80865c40",
   "metadata": {
    "scrolled": true
   },
   "outputs": [
    {
     "name": "stdout",
     "output_type": "stream",
     "text": [
      "1/1 [==============================] - 1s 741ms/step\n"
     ]
    },
    {
     "data": {
      "text/plain": [
       "[array([[17.67527]], dtype=float32),\n",
       " array([[51.30267]], dtype=float32),\n",
       " array([[0.6158781]], dtype=float32)]"
      ]
     },
     "execution_count": 21,
     "metadata": {},
     "output_type": "execute_result"
    }
   ],
   "source": [
    "model.predict('./data/test/test_aligned/albert-einstein.jpg',  show_img = True)"
   ]
  },
  {
   "cell_type": "code",
   "execution_count": 25,
   "id": "58fc710e",
   "metadata": {},
   "outputs": [],
   "source": [
    "from keras.preprocessing import image\n",
    "from keras.utils.layer_utils import get_source_inputs\n",
    "from tensorflow.keras.utils import load_img, img_to_array\n",
    "import matplotlib.pyplot as plt\n",
    "import matplotlib.patches as patches\n",
    "from PIL import Image\n",
    "import numpy as np\n",
    "from mtcnn.mtcnn import MTCNN\n",
    "import cv2\n",
    "import os\n",
    "\n",
    "def crop_img(im,x,y,w,h):\n",
    "    return im[y:(y+h),x:(x+w),:]\n",
    "\n",
    "def detect_face(face_path):\n",
    "    img = cv2.cvtColor(cv2.imread(face_path), cv2.COLOR_BGR2RGB)\n",
    "    box = detector.detect_faces(img)[0]\n",
    "    return box\n",
    "\n",
    "def detect_faces(face_path):\n",
    "    #img = cv2.cvtColor(cv2.imread(face_path), cv2.COLOR_BGR2RGB)\n",
    "    img = load_img(face_path)\n",
    "    img = img_to_array(img)\n",
    "    box = detector.detect_faces(img)\n",
    "    return box\n",
    "\n",
    "def draw_box(face_path = './test/trump.jpg', plot = True):\n",
    "    \n",
    "    boxes = detect_faces(face_path)\n",
    "    im = np.array(Image.open(face_path), dtype=np.uint8)\n",
    "    \n",
    "    if plot:\n",
    "        # Create figure and axes\n",
    "        num_box = len(boxes)\n",
    "        fig,ax = plt.subplots(1, (1 + num_box))\n",
    "        fig.set_size_inches(4 * (1 + num_box),4)\n",
    "        # Display the image\n",
    "        ax[0].imshow(im)\n",
    "        ax[0].axis('off')\n",
    "        # Create a Rectangle patch\n",
    "        for idx, box in enumerate(boxes):\n",
    "            box_x, box_y, box_w, box_h = box['box']\n",
    "            rect = patches.Rectangle((box_x, box_y), box_w, box_h, linewidth=1,edgecolor='r',facecolor='none')\n",
    "            ax[0].add_patch(rect)\n",
    "            ax[0].text(box_x, box_y, '{:3.2f}'.format(box['confidence']))\n",
    "            for i in box['keypoints'].keys():\n",
    "                circle = patches.Circle(box['keypoints'][i], radius = 5, color = 'red')\n",
    "                ax[0].add_patch(circle)\n",
    "            ax[1 + idx].imshow(crop_img(im, *box['box']))\n",
    "            ax[1 + idx].axis('off')\n",
    "        plt.show()\n",
    "    \n",
    "    res = [crop_img(im, *box['box']) for box in boxes]\n",
    "    \n",
    "    return res"
   ]
  },
  {
   "cell_type": "code",
   "execution_count": 28,
   "id": "c30a617e",
   "metadata": {
    "scrolled": true
   },
   "outputs": [
    {
     "name": "stdout",
     "output_type": "stream",
     "text": [
      "WARNING:tensorflow:5 out of the last 5 calls to <function Model.make_predict_function.<locals>.predict_function at 0x000001A69F7E1CA0> triggered tf.function retracing. Tracing is expensive and the excessive number of tracings could be due to (1) creating @tf.function repeatedly in a loop, (2) passing tensors with different shapes, (3) passing Python objects instead of tensors. For (1), please define your @tf.function outside of the loop. For (2), @tf.function has reduce_retracing=True option that can avoid unnecessary retracing. For (3), please refer to https://www.tensorflow.org/guide/function#controlling_retracing and https://www.tensorflow.org/api_docs/python/tf/function for  more details.\n",
      "1/1 [==============================] - 1s 844ms/step\n",
      "WARNING:tensorflow:6 out of the last 6 calls to <function Model.make_predict_function.<locals>.predict_function at 0x000001A69F7E1CA0> triggered tf.function retracing. Tracing is expensive and the excessive number of tracings could be due to (1) creating @tf.function repeatedly in a loop, (2) passing tensors with different shapes, (3) passing Python objects instead of tensors. For (1), please define your @tf.function outside of the loop. For (2), @tf.function has reduce_retracing=True option that can avoid unnecessary retracing. For (3), please refer to https://www.tensorflow.org/guide/function#controlling_retracing and https://www.tensorflow.org/api_docs/python/tf/function for  more details.\n",
      "1/1 [==============================] - 0s 390ms/step\n",
      "1/1 [==============================] - 0s 224ms/step\n",
      "1/1 [==============================] - 0s 103ms/step\n",
      "1/1 [==============================] - 0s 84ms/step\n",
      "1/1 [==============================] - 0s 62ms/step\n",
      "1/1 [==============================] - 0s 69ms/step\n",
      "1/1 [==============================] - 0s 62ms/step\n",
      "1/1 [==============================] - 0s 68ms/step\n",
      "1/1 [==============================] - 0s 32ms/step\n",
      "1/1 [==============================] - 0s 40ms/step\n",
      "1/1 [==============================] - 0s 47ms/step\n",
      "1/1 [==============================] - 0s 43ms/step\n",
      "11/11 [==============================] - 0s 16ms/step\n",
      "1/1 [==============================] - 0s 412ms/step\n"
     ]
    }
   ],
   "source": [
    "detector = MTCNN()\n",
    "box = detect_face('data/test/single_face/Kim Jong-un.jpg')\n",
    "im = plt.imread('data/test/single_face/Kim Jong-un.jpg')\n",
    "cropped = crop_img(im, *box['box'])\n",
    "plt.imsave('data/test/new/Kim Jong-un.jpg', crop_img(im, *box['box']))"
   ]
  },
  {
   "cell_type": "code",
   "execution_count": 31,
   "id": "ce7360b5",
   "metadata": {},
   "outputs": [
    {
     "data": {
      "text/plain": [
       "array([[[128, 127, 133],\n",
       "        [125, 124, 130],\n",
       "        [128, 127, 133],\n",
       "        ...,\n",
       "        [ 16,  16,  18],\n",
       "        [ 13,  13,  15],\n",
       "        [ 16,  16,  18]],\n",
       "\n",
       "       [[134, 133, 139],\n",
       "        [131, 130, 136],\n",
       "        [135, 134, 140],\n",
       "        ...,\n",
       "        [ 12,  12,  14],\n",
       "        [ 12,  12,  14],\n",
       "        [ 15,  15,  17]],\n",
       "\n",
       "       [[136, 135, 141],\n",
       "        [136, 135, 141],\n",
       "        [143, 142, 148],\n",
       "        ...,\n",
       "        [ 10,  10,  12],\n",
       "        [ 14,  14,  16],\n",
       "        [ 15,  15,  17]],\n",
       "\n",
       "       ...,\n",
       "\n",
       "       [[ 34,  34,  34],\n",
       "        [ 33,  33,  33],\n",
       "        [ 33,  33,  33],\n",
       "        ...,\n",
       "        [ 17,  17,  19],\n",
       "        [ 21,  21,  23],\n",
       "        [ 22,  22,  24]],\n",
       "\n",
       "       [[ 32,  32,  32],\n",
       "        [ 30,  30,  32],\n",
       "        [ 31,  31,  33],\n",
       "        ...,\n",
       "        [ 20,  20,  22],\n",
       "        [ 15,  15,  17],\n",
       "        [ 19,  19,  21]],\n",
       "\n",
       "       [[ 31,  31,  33],\n",
       "        [ 31,  30,  35],\n",
       "        [ 32,  31,  36],\n",
       "        ...,\n",
       "        [ 21,  21,  23],\n",
       "        [ 15,  15,  17],\n",
       "        [ 17,  17,  19]]], dtype=uint8)"
      ]
     },
     "execution_count": 31,
     "metadata": {},
     "output_type": "execute_result"
    }
   ],
   "source": [
    "cropped"
   ]
  },
  {
   "cell_type": "code",
   "execution_count": 37,
   "id": "94c3e180",
   "metadata": {},
   "outputs": [
    {
     "name": "stdout",
     "output_type": "stream",
     "text": [
      "1/1 [==============================] - 1s 1s/step\n"
     ]
    },
    {
     "data": {
      "text/plain": [
       "[array([[46.430965]], dtype=float32),\n",
       " array([[29.433643]], dtype=float32),\n",
       " array([[0.02577626]], dtype=float32)]"
      ]
     },
     "execution_count": 37,
     "metadata": {},
     "output_type": "execute_result"
    }
   ],
   "source": [
    "model.predict('data/test/new/Kim Jong-un.jpg', show_img=True)"
   ]
  },
  {
   "cell_type": "code",
   "execution_count": 63,
   "id": "fa3dca2f",
   "metadata": {},
   "outputs": [
    {
     "name": "stdout",
     "output_type": "stream",
     "text": [
      "Model: \"model_10\"\n",
      "__________________________________________________________________________________________________\n",
      " Layer (type)                   Output Shape         Param #     Connected to                     \n",
      "==================================================================================================\n",
      " input_12 (InputLayer)          [(None, 224, 224, 3  0           []                               \n",
      "                                )]                                                                \n",
      "                                                                                                  \n",
      " conv1_1 (Conv2D)               (None, 224, 224, 64  1792        ['input_12[0][0]']               \n",
      "                                )                                                                 \n",
      "                                                                                                  \n",
      " conv1_2 (Conv2D)               (None, 224, 224, 64  36928       ['conv1_1[0][0]']                \n",
      "                                )                                                                 \n",
      "                                                                                                  \n",
      " pool1 (MaxPooling2D)           (None, 112, 112, 64  0           ['conv1_2[0][0]']                \n",
      "                                )                                                                 \n",
      "                                                                                                  \n",
      " conv2_1 (Conv2D)               (None, 112, 112, 12  73856       ['pool1[0][0]']                  \n",
      "                                8)                                                                \n",
      "                                                                                                  \n",
      " conv2_2 (Conv2D)               (None, 112, 112, 12  147584      ['conv2_1[0][0]']                \n",
      "                                8)                                                                \n",
      "                                                                                                  \n",
      " pool2 (MaxPooling2D)           (None, 56, 56, 128)  0           ['conv2_2[0][0]']                \n",
      "                                                                                                  \n",
      " conv3_1 (Conv2D)               (None, 56, 56, 256)  295168      ['pool2[0][0]']                  \n",
      "                                                                                                  \n",
      " conv3_2 (Conv2D)               (None, 56, 56, 256)  590080      ['conv3_1[0][0]']                \n",
      "                                                                                                  \n",
      " conv3_3 (Conv2D)               (None, 56, 56, 256)  590080      ['conv3_2[0][0]']                \n",
      "                                                                                                  \n",
      " pool3 (MaxPooling2D)           (None, 28, 28, 256)  0           ['conv3_3[0][0]']                \n",
      "                                                                                                  \n",
      " conv4_1 (Conv2D)               (None, 28, 28, 512)  1180160     ['pool3[0][0]']                  \n",
      "                                                                                                  \n",
      " conv4_2 (Conv2D)               (None, 28, 28, 512)  2359808     ['conv4_1[0][0]']                \n",
      "                                                                                                  \n",
      " conv4_3 (Conv2D)               (None, 28, 28, 512)  2359808     ['conv4_2[0][0]']                \n",
      "                                                                                                  \n",
      " pool4 (MaxPooling2D)           (None, 14, 14, 512)  0           ['conv4_3[0][0]']                \n",
      "                                                                                                  \n",
      " conv5_1 (Conv2D)               (None, 14, 14, 512)  2359808     ['pool4[0][0]']                  \n",
      "                                                                                                  \n",
      " conv5_2 (Conv2D)               (None, 14, 14, 512)  2359808     ['conv5_1[0][0]']                \n",
      "                                                                                                  \n",
      " conv5_3 (Conv2D)               (None, 14, 14, 512)  2359808     ['conv5_2[0][0]']                \n",
      "                                                                                                  \n",
      " pool5 (MaxPooling2D)           (None, 7, 7, 512)    0           ['conv5_3[0][0]']                \n",
      "                                                                                                  \n",
      " flatten_7 (Flatten)            (None, 25088)        0           ['pool5[0][0]']                  \n",
      "                                                                                                  \n",
      " bmi_fc1 (Dense)                (None, 128)          3211392     ['flatten_7[0][0]']              \n",
      "                                                                                                  \n",
      " age_fc1 (Dense)                (None, 128)          3211392     ['flatten_7[0][0]']              \n",
      "                                                                                                  \n",
      " sex_fc1 (Dense)                (None, 128)          3211392     ['flatten_7[0][0]']              \n",
      "                                                                                                  \n",
      " bmi_bn1 (BatchNormalization)   (None, 128)          512         ['bmi_fc1[0][0]']                \n",
      "                                                                                                  \n",
      " age_bn1 (BatchNormalization)   (None, 128)          512         ['age_fc1[0][0]']                \n",
      "                                                                                                  \n",
      " sex_bn1 (BatchNormalization)   (None, 128)          512         ['sex_fc1[0][0]']                \n",
      "                                                                                                  \n",
      " bmi_act1 (Activation)          (None, 128)          0           ['bmi_bn1[0][0]']                \n",
      "                                                                                                  \n",
      " age_act1 (Activation)          (None, 128)          0           ['age_bn1[0][0]']                \n",
      "                                                                                                  \n",
      " sex_act1 (Activation)          (None, 128)          0           ['sex_bn1[0][0]']                \n",
      "                                                                                                  \n",
      " dropout_6 (Dropout)            (None, 128)          0           ['bmi_act1[0][0]']               \n",
      "                                                                                                  \n",
      " dropout_8 (Dropout)            (None, 128)          0           ['age_act1[0][0]']               \n",
      "                                                                                                  \n",
      " dropout_10 (Dropout)           (None, 128)          0           ['sex_act1[0][0]']               \n",
      "                                                                                                  \n",
      " bmi_fc2 (Dense)                (None, 128)          16512       ['dropout_6[0][0]']              \n",
      "                                                                                                  \n",
      " age_fc2 (Dense)                (None, 128)          16512       ['dropout_8[0][0]']              \n",
      "                                                                                                  \n",
      " sex_fc2 (Dense)                (None, 128)          16512       ['dropout_10[0][0]']             \n",
      "                                                                                                  \n",
      " bmi_bn2 (BatchNormalization)   (None, 128)          512         ['bmi_fc2[0][0]']                \n",
      "                                                                                                  \n",
      " age_bn2 (BatchNormalization)   (None, 128)          512         ['age_fc2[0][0]']                \n",
      "                                                                                                  \n"
     ]
    },
    {
     "name": "stdout",
     "output_type": "stream",
     "text": [
      " sex_bn2 (BatchNormalization)   (None, 128)          512         ['sex_fc2[0][0]']                \n",
      "                                                                                                  \n",
      " bmi_act2 (Activation)          (None, 128)          0           ['bmi_bn2[0][0]']                \n",
      "                                                                                                  \n",
      " age_act2 (Activation)          (None, 128)          0           ['age_bn2[0][0]']                \n",
      "                                                                                                  \n",
      " sex_act2 (Activation)          (None, 128)          0           ['sex_bn2[0][0]']                \n",
      "                                                                                                  \n",
      " dropout_7 (Dropout)            (None, 128)          0           ['bmi_act2[0][0]']               \n",
      "                                                                                                  \n",
      " dropout_9 (Dropout)            (None, 128)          0           ['age_act2[0][0]']               \n",
      "                                                                                                  \n",
      " dropout_11 (Dropout)           (None, 128)          0           ['sex_act2[0][0]']               \n",
      "                                                                                                  \n",
      " bmi (Dense)                    (None, 1)            129         ['dropout_7[0][0]']              \n",
      "                                                                                                  \n",
      " age (Dense)                    (None, 1)            129         ['dropout_9[0][0]']              \n",
      "                                                                                                  \n",
      " sex (Dense)                    (None, 1)            129         ['dropout_11[0][0]']             \n",
      "                                                                                                  \n",
      "==================================================================================================\n",
      "Total params: 24,401,859\n",
      "Trainable params: 9,685,635\n",
      "Non-trainable params: 14,716,224\n",
      "__________________________________________________________________________________________________\n"
     ]
    }
   ],
   "source": [
    "import tensorflow as tf\n",
    "model_type = 'vgg16'\n",
    "model_tag = 'base'\n",
    "model_id = '{:s}_{:s}'.format(model_type, model_tag)\n",
    "model_dir = './saved_model/model_{:s}.h5'.format(model_id)\n",
    "modl = tf.keras.models.load_model(model_dir)\n",
    "modl.load_w\n",
    "#model = load_weights(model_dir)\n",
    "#preds = modl.predict('./data/test/test_aligned/albert-einstein.jpg',  show_img = True)"
   ]
  },
  {
   "cell_type": "code",
   "execution_count": 108,
   "id": "f0fccbc6",
   "metadata": {},
   "outputs": [],
   "source": [
    "from keras.preprocessing import image\n",
    "from keras.utils.layer_utils import get_source_inputs\n",
    "from tensorflow.keras.utils import load_img, img_to_array\n",
    "import matplotlib.pyplot as plt\n",
    "import matplotlib.patches as patches\n",
    "from PIL import Image\n",
    "import numpy as np\n",
    "\n",
    "def crop_img(im,x,y,w,h):\n",
    "    return im[y:(y+h),x:(x+w),:]\n",
    "\n",
    "def detect_face(face_path):\n",
    "    img = cv2.cvtColor(cv2.imread(face_path), cv2.COLOR_BGR2RGB)\n",
    "    box = detector.detect_faces(img)[0]\n",
    "    return box\n",
    "\n",
    "def detect_faces(face_path):\n",
    "    #img = cv2.cvtColor(cv2.imread(face_path), cv2.COLOR_BGR2RGB)\n",
    "    img = load_img(face_path)\n",
    "    img = img_to_array(img)\n",
    "    box = detector.detect_faces(img)\n",
    "    return box\n",
    "\n",
    "def draw_box(face_path = './test/trump.jpg', plot = False):\n",
    "    \n",
    "    boxes = detect_faces(face_path)\n",
    "    im = np.array(Image.open(face_path), dtype=np.uint8)\n",
    "    \n",
    "    if plot:\n",
    "        # Create figure and axes\n",
    "        num_box = len(boxes)\n",
    "        fig,ax = plt.subplots(1, (1 + num_box))\n",
    "        fig.set_size_inches(4 * (1 + num_box),4)\n",
    "        # Display the image\n",
    "        ax[0].imshow(im)\n",
    "        ax[0].axis('off')\n",
    "        # Create a Rectangle patch\n",
    "        for idx, box in enumerate(boxes):\n",
    "            box_x, box_y, box_w, box_h = box['box']\n",
    "            rect = patches.Rectangle((box_x, box_y), box_w, box_h, linewidth=1,edgecolor='r',facecolor='none')\n",
    "            ax[0].add_patch(rect)\n",
    "            ax[0].text(box_x, box_y, '{:3.2f}'.format(box['confidence']))\n",
    "            for i in box['keypoints'].keys():\n",
    "                circle = patches.Circle(box['keypoints'][i], radius = 5, color = 'red')\n",
    "                ax[0].add_patch(circle)\n",
    "            ax[1 + idx].imshow(crop_img(im, *box['box']))\n",
    "            ax[1 + idx].axis('off')\n",
    "        #plt.show()\n",
    "    \n",
    "    res = [crop_img(im, *box['box']) for box in boxes]\n",
    "    \n",
    "    return res"
   ]
  },
  {
   "cell_type": "code",
   "execution_count": 89,
   "id": "fcde0332",
   "metadata": {},
   "outputs": [
    {
     "name": "stderr",
     "output_type": "stream",
     "text": [
      "\r",
      "  0%|          | 0/2 [00:00<?, ?it/s]"
     ]
    },
    {
     "name": "stdout",
     "output_type": "stream",
     "text": [
      "1/1 [==============================] - 0s 100ms/step\n",
      "1/1 [==============================] - 0s 70ms/step\n",
      "1/1 [==============================] - 0s 62ms/step\n",
      "1/1 [==============================] - 0s 50ms/step\n",
      "1/1 [==============================] - 0s 45ms/step\n",
      "1/1 [==============================] - 0s 63ms/step\n",
      "1/1 [==============================] - 0s 37ms/step\n",
      "1/1 [==============================] - 0s 46ms/step\n",
      "1/1 [==============================] - 0s 36ms/step\n",
      "1/1 [==============================] - 0s 51ms/step\n",
      "1/1 [==============================] - 0s 57ms/step\n"
     ]
    },
    {
     "name": "stderr",
     "output_type": "stream",
     "text": [
      "  0%|          | 0/2 [00:02<?, ?it/s]\n"
     ]
    },
    {
     "ename": "TypeError",
     "evalue": "list indices must be integers or slices, not str",
     "output_type": "error",
     "traceback": [
      "\u001b[1;31m---------------------------------------------------------------------------\u001b[0m",
      "\u001b[1;31mTypeError\u001b[0m                                 Traceback (most recent call last)",
      "Input \u001b[1;32mIn [89]\u001b[0m, in \u001b[0;36m<cell line: 17>\u001b[1;34m()\u001b[0m\n\u001b[0;32m     18\u001b[0m box \u001b[38;5;241m=\u001b[39m detect_face(test_dir\u001b[38;5;241m+\u001b[39mimg)\n\u001b[0;32m     19\u001b[0m im \u001b[38;5;241m=\u001b[39m plt\u001b[38;5;241m.\u001b[39mimread(test_dir\u001b[38;5;241m+\u001b[39mimg)\n\u001b[1;32m---> 20\u001b[0m cropped \u001b[38;5;241m=\u001b[39m crop_img(im, \u001b[38;5;241m*\u001b[39m\u001b[43mbox\u001b[49m\u001b[43m[\u001b[49m\u001b[38;5;124;43m'\u001b[39;49m\u001b[38;5;124;43mbox\u001b[39;49m\u001b[38;5;124;43m'\u001b[39;49m\u001b[43m]\u001b[49m)\n\u001b[0;32m     21\u001b[0m plt\u001b[38;5;241m.\u001b[39mimsave(test_processed_dir\u001b[38;5;241m+\u001b[39mimg, crop_img(im, \u001b[38;5;241m*\u001b[39mbox[\u001b[38;5;124m'\u001b[39m\u001b[38;5;124mbox\u001b[39m\u001b[38;5;124m'\u001b[39m]))\n",
      "\u001b[1;31mTypeError\u001b[0m: list indices must be integers or slices, not str"
     ]
    }
   ],
   "source": [
    "from tqdm import tqdm\n",
    "import shutil\n",
    "def cut_negative_boundary(box):\n",
    "    res = []\n",
    "    for x in box['box']:\n",
    "        if x < 0:\n",
    "            x = 0\n",
    "        res.append(x)\n",
    "    box['box'] = res\n",
    "    return box\n",
    "\n",
    "test_processed_dir = 'data/test/new/'\n",
    "test_dir = 'data/test/tst/'\n",
    "if os.path.exists(test_processed_dir):\n",
    "    shutil.rmtree(test_processed_dir)\n",
    "os.mkdir(test_processed_dir)\n",
    "for img in tqdm(os.listdir(test_dir)):\n",
    "    box = detect_face(test_dir+img)\n",
    "    im = plt.imread(test_dir+img)\n",
    "    cropped = crop_img(im, *box['box'])\n",
    "    plt.imsave(test_processed_dir+img, crop_img(im, *box['box']))"
   ]
  },
  {
   "cell_type": "code",
   "execution_count": null,
   "id": "fc021675",
   "metadata": {},
   "outputs": [],
   "source": [
    "preds = model.predict('./data/test/test_aligned/albert-einstein.jpg', show_img = True)"
   ]
  },
  {
   "cell_type": "code",
   "execution_count": 93,
   "id": "dab2196d",
   "metadata": {},
   "outputs": [
    {
     "name": "stdout",
     "output_type": "stream",
     "text": [
      "1/1 [==============================] - 0s 395ms/step\n",
      "1/1 [==============================] - 0s 352ms/step\n",
      "1/1 [==============================] - 0s 65ms/step\n",
      "1/1 [==============================] - 0s 40ms/step\n",
      "1/1 [==============================] - 0s 75ms/step\n",
      "1/1 [==============================] - 0s 50ms/step\n",
      "1/1 [==============================] - 0s 52ms/step\n",
      "1/1 [==============================] - 0s 52ms/step\n",
      "1/1 [==============================] - 0s 54ms/step\n",
      "1/1 [==============================] - 0s 52ms/step\n",
      "2/2 [==============================] - 0s 19ms/step\n",
      "1/1 [==============================] - 0s 450ms/step\n",
      "[{'box': [355, 75, 266, 347], 'confidence': 0.9983004927635193, 'keypoints': {'left_eye': (432, 209), 'right_eye': (551, 208), 'nose': (492, 276), 'mouth_left': (445, 346), 'mouth_right': (544, 347)}}]\n",
      "1/1 [==============================] - 0s 152ms/step\n",
      "1/1 [==============================] - 0s 105ms/step\n",
      "1/1 [==============================] - 0s 77ms/step\n",
      "1/1 [==============================] - 0s 50ms/step\n",
      "1/1 [==============================] - 0s 55ms/step\n",
      "1/1 [==============================] - 0s 62ms/step\n",
      "1/1 [==============================] - 0s 68ms/step\n",
      "1/1 [==============================] - 0s 48ms/step\n",
      "1/1 [==============================] - 0s 54ms/step\n",
      "1/1 [==============================] - 0s 33ms/step\n",
      "2/2 [==============================] - 0s 10ms/step\n",
      "1/1 [==============================] - 0s 51ms/step\n"
     ]
    },
    {
     "data": {
      "text/plain": [
       "{'box': [355, 75, 266, 347],\n",
       " 'confidence': 0.9983004927635193,\n",
       " 'keypoints': {'left_eye': (432, 209),\n",
       "  'right_eye': (551, 208),\n",
       "  'nose': (492, 276),\n",
       "  'mouth_left': (445, 346),\n",
       "  'mouth_right': (544, 347)}}"
      ]
     },
     "execution_count": 93,
     "metadata": {},
     "output_type": "execute_result"
    }
   ],
   "source": [
    "img = cv2.cvtColor(cv2.imread('./data/test/single_face/' + 'trump.jpg'), cv2.COLOR_BGR2RGB)\n",
    "detector = MTCNN()\n",
    "print(detector.detect_faces(img))\n",
    "box = detector.detect_faces(img)[0]\n",
    "box"
   ]
  },
  {
   "cell_type": "code",
   "execution_count": 111,
   "id": "70115aec",
   "metadata": {
    "scrolled": false
   },
   "outputs": [
    {
     "name": "stdout",
     "output_type": "stream",
     "text": [
      "1/1 [==============================] - 0s 136ms/step\n",
      "1/1 [==============================] - 0s 115ms/step\n",
      "1/1 [==============================] - 0s 84ms/step\n",
      "1/1 [==============================] - 0s 74ms/step\n",
      "1/1 [==============================] - 0s 70ms/step\n",
      "1/1 [==============================] - 0s 51ms/step\n",
      "1/1 [==============================] - 0s 56ms/step\n",
      "1/1 [==============================] - 0s 51ms/step\n",
      "1/1 [==============================] - 0s 47ms/step\n",
      "1/1 [==============================] - 0s 63ms/step\n",
      "2/2 [==============================] - 0s 9ms/step\n",
      "1/1 [==============================] - 0s 58ms/step\n"
     ]
    },
    {
     "data": {
      "text/plain": [
       "array([[[[ 77,  62,  31],\n",
       "         [ 84,  69,  38],\n",
       "         [ 87,  72,  41],\n",
       "         ...,\n",
       "         [123, 103,  76],\n",
       "         [131, 111,  84],\n",
       "         [135, 115,  88]],\n",
       "\n",
       "        [[ 76,  60,  34],\n",
       "         [ 84,  68,  43],\n",
       "         [ 84,  68,  42],\n",
       "         ...,\n",
       "         [139, 119,  92],\n",
       "         [135, 115,  88],\n",
       "         [137, 117,  90]],\n",
       "\n",
       "        [[ 66,  50,  25],\n",
       "         [ 73,  57,  34],\n",
       "         [ 77,  61,  36],\n",
       "         ...,\n",
       "         [138, 118,  91],\n",
       "         [142, 122,  95],\n",
       "         [136, 116,  89]],\n",
       "\n",
       "        ...,\n",
       "\n",
       "        [[ 10,  23,  32],\n",
       "         [ 10,  23,  32],\n",
       "         [  9,  22,  31],\n",
       "         ...,\n",
       "         [  9,  21,  33],\n",
       "         [  9,  21,  33],\n",
       "         [  8,  20,  32]],\n",
       "\n",
       "        [[  9,  22,  31],\n",
       "         [  8,  18,  28],\n",
       "         [  6,  20,  29],\n",
       "         ...,\n",
       "         [  7,  19,  31],\n",
       "         [ 11,  23,  35],\n",
       "         [  9,  21,  33]],\n",
       "\n",
       "        [[ 11,  24,  33],\n",
       "         [ 11,  21,  31],\n",
       "         [  8,  22,  31],\n",
       "         ...,\n",
       "         [  8,  20,  32],\n",
       "         [ 10,  22,  34],\n",
       "         [ 10,  22,  34]]]], dtype=uint8)"
      ]
     },
     "execution_count": 111,
     "metadata": {},
     "output_type": "execute_result"
    }
   ],
   "source": [
    "res = draw_box('./data/test/single_face/' + 'trump.jpg')\n"
   ]
  },
  {
   "cell_type": "code",
   "execution_count": 118,
   "id": "9fb3a8b1",
   "metadata": {},
   "outputs": [
    {
     "ename": "ValueError",
     "evalue": "cannot reshape array of size 277455 into shape (224,224,224,3)",
     "output_type": "error",
     "traceback": [
      "\u001b[1;31m---------------------------------------------------------------------------\u001b[0m",
      "\u001b[1;31mValueError\u001b[0m                                Traceback (most recent call last)",
      "Input \u001b[1;32mIn [118]\u001b[0m, in \u001b[0;36m<cell line: 1>\u001b[1;34m()\u001b[0m\n\u001b[1;32m----> 1\u001b[0m \u001b[43mnp\u001b[49m\u001b[38;5;241;43m.\u001b[39;49m\u001b[43marray\u001b[49m\u001b[43m(\u001b[49m\u001b[43mres\u001b[49m\u001b[43m)\u001b[49m\u001b[38;5;241;43m.\u001b[39;49m\u001b[43mreshape\u001b[49m\u001b[43m(\u001b[49m\u001b[38;5;241;43m224\u001b[39;49m\u001b[43m,\u001b[49m\u001b[43m \u001b[49m\u001b[38;5;241;43m224\u001b[39;49m\u001b[43m,\u001b[49m\u001b[43m \u001b[49m\u001b[38;5;241;43m224\u001b[39;49m\u001b[43m,\u001b[49m\u001b[43m \u001b[49m\u001b[38;5;241;43m3\u001b[39;49m\u001b[43m)\u001b[49m\n",
      "\u001b[1;31mValueError\u001b[0m: cannot reshape array of size 277455 into shape (224,224,224,3)"
     ]
    }
   ],
   "source": [
    "np.array(res).reshape(224, 224, 224, 3)"
   ]
  },
  {
   "cell_type": "code",
   "execution_count": 116,
   "id": "9145e077",
   "metadata": {
    "scrolled": false
   },
   "outputs": [
    {
     "ename": "ValueError",
     "evalue": "in user code:\n\n    File \"C:\\Users\\Hp\\anaconda3\\lib\\site-packages\\keras\\engine\\training.py\", line 2041, in predict_function  *\n        return step_function(self, iterator)\n    File \"C:\\Users\\Hp\\anaconda3\\lib\\site-packages\\keras\\engine\\training.py\", line 2027, in step_function  **\n        outputs = model.distribute_strategy.run(run_step, args=(data,))\n    File \"C:\\Users\\Hp\\anaconda3\\lib\\site-packages\\keras\\engine\\training.py\", line 2015, in run_step  **\n        outputs = model.predict_step(data)\n    File \"C:\\Users\\Hp\\anaconda3\\lib\\site-packages\\keras\\engine\\training.py\", line 1983, in predict_step\n        return self(x, training=False)\n    File \"C:\\Users\\Hp\\anaconda3\\lib\\site-packages\\keras\\utils\\traceback_utils.py\", line 70, in error_handler\n        raise e.with_traceback(filtered_tb) from None\n    File \"C:\\Users\\Hp\\anaconda3\\lib\\site-packages\\keras\\engine\\input_spec.py\", line 295, in assert_input_compatibility\n        raise ValueError(\n\n    ValueError: Input 0 of layer \"model_10\" is incompatible with the layer: expected shape=(None, 224, 224, 3), found shape=(None, 349, 265, 3)\n",
     "output_type": "error",
     "traceback": [
      "\u001b[1;31m---------------------------------------------------------------------------\u001b[0m",
      "\u001b[1;31mValueError\u001b[0m                                Traceback (most recent call last)",
      "Input \u001b[1;32mIn [116]\u001b[0m, in \u001b[0;36m<cell line: 1>\u001b[1;34m()\u001b[0m\n\u001b[1;32m----> 1\u001b[0m \u001b[43mmodl\u001b[49m\u001b[38;5;241;43m.\u001b[39;49m\u001b[43mpredict\u001b[49m\u001b[43m(\u001b[49m\u001b[43mnp\u001b[49m\u001b[38;5;241;43m.\u001b[39;49m\u001b[43marray\u001b[49m\u001b[43m(\u001b[49m\u001b[43mres\u001b[49m\u001b[43m)\u001b[49m\u001b[43m)\u001b[49m\n",
      "File \u001b[1;32m~\\anaconda3\\lib\\site-packages\\keras\\utils\\traceback_utils.py:70\u001b[0m, in \u001b[0;36mfilter_traceback.<locals>.error_handler\u001b[1;34m(*args, **kwargs)\u001b[0m\n\u001b[0;32m     67\u001b[0m     filtered_tb \u001b[38;5;241m=\u001b[39m _process_traceback_frames(e\u001b[38;5;241m.\u001b[39m__traceback__)\n\u001b[0;32m     68\u001b[0m     \u001b[38;5;66;03m# To get the full stack trace, call:\u001b[39;00m\n\u001b[0;32m     69\u001b[0m     \u001b[38;5;66;03m# `tf.debugging.disable_traceback_filtering()`\u001b[39;00m\n\u001b[1;32m---> 70\u001b[0m     \u001b[38;5;28;01mraise\u001b[39;00m e\u001b[38;5;241m.\u001b[39mwith_traceback(filtered_tb) \u001b[38;5;28;01mfrom\u001b[39;00m \u001b[38;5;28mNone\u001b[39m\n\u001b[0;32m     71\u001b[0m \u001b[38;5;28;01mfinally\u001b[39;00m:\n\u001b[0;32m     72\u001b[0m     \u001b[38;5;28;01mdel\u001b[39;00m filtered_tb\n",
      "File \u001b[1;32m~\\AppData\\Local\\Temp\\__autograph_generated_fileuii7vafu.py:15\u001b[0m, in \u001b[0;36mouter_factory.<locals>.inner_factory.<locals>.tf__predict_function\u001b[1;34m(iterator)\u001b[0m\n\u001b[0;32m     13\u001b[0m \u001b[38;5;28;01mtry\u001b[39;00m:\n\u001b[0;32m     14\u001b[0m     do_return \u001b[38;5;241m=\u001b[39m \u001b[38;5;28;01mTrue\u001b[39;00m\n\u001b[1;32m---> 15\u001b[0m     retval_ \u001b[38;5;241m=\u001b[39m ag__\u001b[38;5;241m.\u001b[39mconverted_call(ag__\u001b[38;5;241m.\u001b[39mld(step_function), (ag__\u001b[38;5;241m.\u001b[39mld(\u001b[38;5;28mself\u001b[39m), ag__\u001b[38;5;241m.\u001b[39mld(iterator)), \u001b[38;5;28;01mNone\u001b[39;00m, fscope)\n\u001b[0;32m     16\u001b[0m \u001b[38;5;28;01mexcept\u001b[39;00m:\n\u001b[0;32m     17\u001b[0m     do_return \u001b[38;5;241m=\u001b[39m \u001b[38;5;28;01mFalse\u001b[39;00m\n",
      "\u001b[1;31mValueError\u001b[0m: in user code:\n\n    File \"C:\\Users\\Hp\\anaconda3\\lib\\site-packages\\keras\\engine\\training.py\", line 2041, in predict_function  *\n        return step_function(self, iterator)\n    File \"C:\\Users\\Hp\\anaconda3\\lib\\site-packages\\keras\\engine\\training.py\", line 2027, in step_function  **\n        outputs = model.distribute_strategy.run(run_step, args=(data,))\n    File \"C:\\Users\\Hp\\anaconda3\\lib\\site-packages\\keras\\engine\\training.py\", line 2015, in run_step  **\n        outputs = model.predict_step(data)\n    File \"C:\\Users\\Hp\\anaconda3\\lib\\site-packages\\keras\\engine\\training.py\", line 1983, in predict_step\n        return self(x, training=False)\n    File \"C:\\Users\\Hp\\anaconda3\\lib\\site-packages\\keras\\utils\\traceback_utils.py\", line 70, in error_handler\n        raise e.with_traceback(filtered_tb) from None\n    File \"C:\\Users\\Hp\\anaconda3\\lib\\site-packages\\keras\\engine\\input_spec.py\", line 295, in assert_input_compatibility\n        raise ValueError(\n\n    ValueError: Input 0 of layer \"model_10\" is incompatible with the layer: expected shape=(None, 224, 224, 3), found shape=(None, 349, 265, 3)\n"
     ]
    }
   ],
   "source": [
    "\n",
    "modl.predict(np.array(res))"
   ]
  },
  {
   "cell_type": "code",
   "execution_count": 38,
   "id": "15975bcb",
   "metadata": {},
   "outputs": [],
   "source": [
    "model_dir = './saved_model/model_vgg16_base.h5'\n",
    "#model = FacePrediction(img_dir = './data/face_aligned/285929.jpg', model_type = 'predict')\n"
   ]
  },
  {
   "cell_type": "code",
   "execution_count": 49,
   "id": "e90f2744",
   "metadata": {},
   "outputs": [
    {
     "ename": "NameError",
     "evalue": "name 'load_weights' is not defined",
     "output_type": "error",
     "traceback": [
      "\u001b[1;31m---------------------------------------------------------------------------\u001b[0m",
      "\u001b[1;31mNameError\u001b[0m                                 Traceback (most recent call last)",
      "Input \u001b[1;32mIn [49]\u001b[0m, in \u001b[0;36m<cell line: 1>\u001b[1;34m()\u001b[0m\n\u001b[1;32m----> 1\u001b[0m model \u001b[38;5;241m=\u001b[39m \u001b[43mload_weights\u001b[49m(\u001b[38;5;124m'\u001b[39m\u001b[38;5;124m./saved_model/model_vgg16_base.h5\u001b[39m\u001b[38;5;124m'\u001b[39m)\n",
      "\u001b[1;31mNameError\u001b[0m: name 'load_weights' is not defined"
     ]
    }
   ],
   "source": [
    "model = load_weights('./saved_model/model_vgg16_base.h5')"
   ]
  },
  {
   "cell_type": "code",
   "execution_count": 48,
   "id": "5b390aec",
   "metadata": {},
   "outputs": [
    {
     "ename": "IndexError",
     "evalue": "tuple index out of range",
     "output_type": "error",
     "traceback": [
      "\u001b[1;31m---------------------------------------------------------------------------\u001b[0m",
      "\u001b[1;31mIndexError\u001b[0m                                Traceback (most recent call last)",
      "Input \u001b[1;32mIn [48]\u001b[0m, in \u001b[0;36m<cell line: 1>\u001b[1;34m()\u001b[0m\n\u001b[1;32m----> 1\u001b[0m m \u001b[38;5;241m=\u001b[39m \u001b[43mmodel\u001b[49m\u001b[38;5;241;43m.\u001b[39;49m\u001b[43mpredict\u001b[49m\u001b[43m(\u001b[49m\u001b[38;5;124;43m'\u001b[39;49m\u001b[38;5;124;43m./data/face_aligned/285929.jpg\u001b[39;49m\u001b[38;5;124;43m'\u001b[39;49m\u001b[43m)\u001b[49m\n",
      "File \u001b[1;32m~\\anaconda3\\lib\\site-packages\\keras\\utils\\traceback_utils.py:70\u001b[0m, in \u001b[0;36mfilter_traceback.<locals>.error_handler\u001b[1;34m(*args, **kwargs)\u001b[0m\n\u001b[0;32m     67\u001b[0m     filtered_tb \u001b[38;5;241m=\u001b[39m _process_traceback_frames(e\u001b[38;5;241m.\u001b[39m__traceback__)\n\u001b[0;32m     68\u001b[0m     \u001b[38;5;66;03m# To get the full stack trace, call:\u001b[39;00m\n\u001b[0;32m     69\u001b[0m     \u001b[38;5;66;03m# `tf.debugging.disable_traceback_filtering()`\u001b[39;00m\n\u001b[1;32m---> 70\u001b[0m     \u001b[38;5;28;01mraise\u001b[39;00m e\u001b[38;5;241m.\u001b[39mwith_traceback(filtered_tb) \u001b[38;5;28;01mfrom\u001b[39;00m \u001b[38;5;28mNone\u001b[39m\n\u001b[0;32m     71\u001b[0m \u001b[38;5;28;01mfinally\u001b[39;00m:\n\u001b[0;32m     72\u001b[0m     \u001b[38;5;28;01mdel\u001b[39;00m filtered_tb\n",
      "File \u001b[1;32m~\\anaconda3\\lib\\site-packages\\tensorflow\\python\\framework\\tensor_shape.py:910\u001b[0m, in \u001b[0;36mTensorShape.__getitem__\u001b[1;34m(self, key)\u001b[0m\n\u001b[0;32m    908\u001b[0m \u001b[38;5;28;01melse\u001b[39;00m:\n\u001b[0;32m    909\u001b[0m   \u001b[38;5;28;01mif\u001b[39;00m \u001b[38;5;28mself\u001b[39m\u001b[38;5;241m.\u001b[39m_v2_behavior:\n\u001b[1;32m--> 910\u001b[0m     \u001b[38;5;28;01mreturn\u001b[39;00m \u001b[38;5;28;43mself\u001b[39;49m\u001b[38;5;241;43m.\u001b[39;49m\u001b[43m_dims\u001b[49m\u001b[43m[\u001b[49m\u001b[43mkey\u001b[49m\u001b[43m]\u001b[49m\n\u001b[0;32m    911\u001b[0m   \u001b[38;5;28;01melse\u001b[39;00m:\n\u001b[0;32m    912\u001b[0m     \u001b[38;5;28;01mreturn\u001b[39;00m \u001b[38;5;28mself\u001b[39m\u001b[38;5;241m.\u001b[39mdims[key]\n",
      "\u001b[1;31mIndexError\u001b[0m: tuple index out of range"
     ]
    }
   ],
   "source": [
    "m = model.predict('./data/face_aligned/285929.jpg')"
   ]
  },
  {
   "cell_type": "code",
   "execution_count": 6,
   "id": "36d93a29",
   "metadata": {},
   "outputs": [],
   "source": [
    "# program to capture single image from webcam in python\n",
    "\n",
    "# importing OpenCV library\n",
    "import cv2 as cv\n",
    "\n",
    "# initialize the camera\n",
    "# If you have multiple camera connected with\n",
    "# current device, assign a value in cam_port\n",
    "# variable according to that\n",
    "cam_port = 0\n",
    "cam = cv.VideoCapture(cam_port)\n",
    "\n",
    "# reading the input using the camera\n",
    "result, image = cam.read()\n",
    "\n",
    "# If image will detected without any error,\n",
    "# show result\n",
    "if result:\n",
    "    cv.namedWindow(\"cam-test\")\n",
    "    cv.imshow(\"cam-test\",image)\n",
    "    #cv.waitKey(0)\n",
    "    cv.destroyWindow(\"cam-test\")\n",
    "    cv.imwrite(\"passport.jpg\",image)\n",
    "    cam.release() \n",
    "    # showing result, it take frame name and image\n",
    "    # output\n",
    "    cv.imshow(\"passport\", image)\n",
    "\n",
    "    # saving image in local storage\n",
    "    cv.imwrite(\"passport.jpg\", image)\n",
    "\n",
    "    # If keyboard interrupt occurs, destroy image\n",
    "    # window\n",
    "    #cv.waitKey(0)\n",
    "    cv.destroyWindow(\"passport\")\n",
    "\n",
    "    # If captured image is corrupted, moving to else part\n",
    "else:\n",
    "    print(\"No image detected. Please! try again\")\n"
   ]
  },
  {
   "cell_type": "code",
   "execution_count": 1,
   "id": "8be9395c",
   "metadata": {},
   "outputs": [],
   "source": [
    "import pandas as pd\n",
    "import numpy as np"
   ]
  },
  {
   "cell_type": "code",
   "execution_count": 2,
   "id": "8d49f53d",
   "metadata": {},
   "outputs": [
    {
     "name": "stdout",
     "output_type": "stream",
     "text": [
      "<class 'pandas.core.frame.DataFrame'>\n",
      "RangeIndex: 539 entries, 0 to 538\n",
      "Data columns (total 5 columns):\n",
      " #   Column      Non-Null Count  Dtype \n",
      "---  ------      --------------  ----- \n",
      " 0   Id          539 non-null    int64 \n",
      " 1   age         539 non-null    int64 \n",
      " 2   gender      539 non-null    int64 \n",
      " 3   height(cm)  539 non-null    int64 \n",
      " 4   image       539 non-null    object\n",
      "dtypes: int64(4), object(1)\n",
      "memory usage: 21.2+ KB\n"
     ]
    }
   ],
   "source": [
    "df = pd.read_csv('data/training.csv')\n",
    "df.info()"
   ]
  },
  {
   "cell_type": "code",
   "execution_count": 3,
   "id": "df3c679e",
   "metadata": {},
   "outputs": [
    {
     "data": {
      "text/plain": [
       "Id            0.921885\n",
       "age          -0.036857\n",
       "gender        0.166788\n",
       "height(cm)    1.000000\n",
       "Name: height(cm), dtype: float64"
      ]
     },
     "execution_count": 3,
     "metadata": {},
     "output_type": "execute_result"
    }
   ],
   "source": [
    "df.corr()['height(cm)']"
   ]
  },
  {
   "cell_type": "code",
   "execution_count": 4,
   "id": "69aef18b",
   "metadata": {},
   "outputs": [],
   "source": [
    "df['height(Meters)'] = df['height(cm)'] * 0.01"
   ]
  },
  {
   "cell_type": "code",
   "execution_count": 5,
   "id": "48184f4a",
   "metadata": {},
   "outputs": [],
   "source": [
    "df = df.drop(['Id', 'height(cm)'], axis=1)"
   ]
  },
  {
   "cell_type": "code",
   "execution_count": 6,
   "id": "15e94cc1",
   "metadata": {},
   "outputs": [
    {
     "data": {
      "text/plain": [
       "(539, 4)"
      ]
     },
     "execution_count": 6,
     "metadata": {},
     "output_type": "execute_result"
    }
   ],
   "source": [
    "df.shape"
   ]
  },
  {
   "cell_type": "code",
   "execution_count": 40,
   "id": "dc5e1b63",
   "metadata": {},
   "outputs": [],
   "source": [
    "X = df[['age', 'gender']]\n",
    "y = df['height(Meters)']"
   ]
  },
  {
   "cell_type": "code",
   "execution_count": 8,
   "id": "6b16410c",
   "metadata": {},
   "outputs": [],
   "source": [
    "from sklearn.model_selection import train_test_split\n",
    "from sklearn.linear_model import LinearRegression\n",
    "from sklearn.preprocessing import StandardScaler"
   ]
  },
  {
   "cell_type": "code",
   "execution_count": 41,
   "id": "bf261bb3",
   "metadata": {},
   "outputs": [],
   "source": [
    "X_train, X_test, y_train, y_test = train_test_split(X, y, test_size=0.25, random_state=42)"
   ]
  },
  {
   "cell_type": "code",
   "execution_count": 42,
   "id": "7a1d1e1c",
   "metadata": {},
   "outputs": [],
   "source": [
    "scaler = StandardScaler()"
   ]
  },
  {
   "cell_type": "code",
   "execution_count": 43,
   "id": "670b800b",
   "metadata": {},
   "outputs": [],
   "source": [
    "X_train_scaled = scaler.fit_transform(X_train)\n",
    "X_test_scaled = scaler.transform(X_test)"
   ]
  },
  {
   "cell_type": "code",
   "execution_count": 44,
   "id": "bd8fc5fc",
   "metadata": {},
   "outputs": [],
   "source": [
    "regModel = LinearRegression()"
   ]
  },
  {
   "cell_type": "code",
   "execution_count": 45,
   "id": "30c1a454",
   "metadata": {},
   "outputs": [
    {
     "data": {
      "text/plain": [
       "LinearRegression()"
      ]
     },
     "execution_count": 45,
     "metadata": {},
     "output_type": "execute_result"
    }
   ],
   "source": [
    "regModel.fit(X_train, y_train)"
   ]
  },
  {
   "cell_type": "code",
   "execution_count": 46,
   "id": "31d11aa4",
   "metadata": {},
   "outputs": [
    {
     "name": "stdout",
     "output_type": "stream",
     "text": [
      "[-0.00057561  0.06383162]\n"
     ]
    }
   ],
   "source": [
    "print(regModel.coef_)"
   ]
  },
  {
   "cell_type": "code",
   "execution_count": 47,
   "id": "1da56bca",
   "metadata": {},
   "outputs": [],
   "source": [
    "predictions = regModel.predict(X_test)"
   ]
  },
  {
   "cell_type": "code",
   "execution_count": 16,
   "id": "24fa51a1",
   "metadata": {},
   "outputs": [
    {
     "data": {
      "text/plain": [
       "(135,)"
      ]
     },
     "execution_count": 16,
     "metadata": {},
     "output_type": "execute_result"
    }
   ],
   "source": [
    "predictions.shape"
   ]
  },
  {
   "cell_type": "code",
   "execution_count": 17,
   "id": "fd45a2cb",
   "metadata": {},
   "outputs": [
    {
     "data": {
      "text/plain": [
       "(135,)"
      ]
     },
     "execution_count": 17,
     "metadata": {},
     "output_type": "execute_result"
    }
   ],
   "source": [
    "y_test.shape"
   ]
  },
  {
   "cell_type": "code",
   "execution_count": 49,
   "id": "3d4ed0c6",
   "metadata": {},
   "outputs": [
    {
     "data": {
      "text/html": [
       "<div>\n",
       "<style scoped>\n",
       "    .dataframe tbody tr th:only-of-type {\n",
       "        vertical-align: middle;\n",
       "    }\n",
       "\n",
       "    .dataframe tbody tr th {\n",
       "        vertical-align: top;\n",
       "    }\n",
       "\n",
       "    .dataframe thead th {\n",
       "        text-align: right;\n",
       "    }\n",
       "</style>\n",
       "<table border=\"1\" class=\"dataframe\">\n",
       "  <thead>\n",
       "    <tr style=\"text-align: right;\">\n",
       "      <th></th>\n",
       "      <th>predictions</th>\n",
       "      <th>actual</th>\n",
       "      <th>difference</th>\n",
       "    </tr>\n",
       "  </thead>\n",
       "  <tbody>\n",
       "    <tr>\n",
       "      <th>486</th>\n",
       "      <td>1.764061</td>\n",
       "      <td>1.90</td>\n",
       "      <td>0.14</td>\n",
       "    </tr>\n",
       "    <tr>\n",
       "      <th>73</th>\n",
       "      <td>1.825591</td>\n",
       "      <td>1.56</td>\n",
       "      <td>-0.27</td>\n",
       "    </tr>\n",
       "    <tr>\n",
       "      <th>349</th>\n",
       "      <td>1.761759</td>\n",
       "      <td>1.80</td>\n",
       "      <td>0.04</td>\n",
       "    </tr>\n",
       "    <tr>\n",
       "      <th>86</th>\n",
       "      <td>1.768666</td>\n",
       "      <td>1.62</td>\n",
       "      <td>-0.15</td>\n",
       "    </tr>\n",
       "    <tr>\n",
       "      <th>457</th>\n",
       "      <td>1.761183</td>\n",
       "      <td>1.87</td>\n",
       "      <td>0.11</td>\n",
       "    </tr>\n",
       "    <tr>\n",
       "      <th>...</th>\n",
       "      <td>...</td>\n",
       "      <td>...</td>\n",
       "      <td>...</td>\n",
       "    </tr>\n",
       "    <tr>\n",
       "      <th>297</th>\n",
       "      <td>1.762335</td>\n",
       "      <td>1.78</td>\n",
       "      <td>0.02</td>\n",
       "    </tr>\n",
       "    <tr>\n",
       "      <th>296</th>\n",
       "      <td>1.768666</td>\n",
       "      <td>1.78</td>\n",
       "      <td>0.01</td>\n",
       "    </tr>\n",
       "    <tr>\n",
       "      <th>158</th>\n",
       "      <td>1.759457</td>\n",
       "      <td>1.71</td>\n",
       "      <td>-0.05</td>\n",
       "    </tr>\n",
       "    <tr>\n",
       "      <th>357</th>\n",
       "      <td>1.772120</td>\n",
       "      <td>1.80</td>\n",
       "      <td>0.03</td>\n",
       "    </tr>\n",
       "    <tr>\n",
       "      <th>291</th>\n",
       "      <td>1.769242</td>\n",
       "      <td>1.78</td>\n",
       "      <td>0.01</td>\n",
       "    </tr>\n",
       "  </tbody>\n",
       "</table>\n",
       "<p>135 rows × 3 columns</p>\n",
       "</div>"
      ],
      "text/plain": [
       "     predictions  actual  difference\n",
       "486     1.764061    1.90        0.14\n",
       "73      1.825591    1.56       -0.27\n",
       "349     1.761759    1.80        0.04\n",
       "86      1.768666    1.62       -0.15\n",
       "457     1.761183    1.87        0.11\n",
       "..           ...     ...         ...\n",
       "297     1.762335    1.78        0.02\n",
       "296     1.768666    1.78        0.01\n",
       "158     1.759457    1.71       -0.05\n",
       "357     1.772120    1.80        0.03\n",
       "291     1.769242    1.78        0.01\n",
       "\n",
       "[135 rows x 3 columns]"
      ]
     },
     "execution_count": 49,
     "metadata": {},
     "output_type": "execute_result"
    }
   ],
   "source": [
    "pd.DataFrame(data={'predictions': predictions, 'actual': y_test, 'difference': y_test - np.round(predictions, 2)})"
   ]
  },
  {
   "cell_type": "code",
   "execution_count": 19,
   "id": "61ca33a6",
   "metadata": {},
   "outputs": [],
   "source": [
    "import matplotlib.pyplot as plt\n",
    "%matplotlib inline\n",
    "import seaborn as sns\n",
    "sns.set_style('darkgrid')"
   ]
  },
  {
   "cell_type": "code",
   "execution_count": 50,
   "id": "8df34043",
   "metadata": {},
   "outputs": [
    {
     "data": {
      "text/plain": [
       "<matplotlib.collections.PathCollection at 0x1e42d7e4be0>"
      ]
     },
     "execution_count": 50,
     "metadata": {},
     "output_type": "execute_result"
    },
    {
     "data": {
      "image/png": "[encoded data removed]",
      "text/plain": [
       "<Figure size 432x288 with 1 Axes>"
      ]
     },
     "metadata": {},
     "output_type": "display_data"
    }
   ],
   "source": [
    "plt.scatter(y_test,predictions)"
   ]
  },
  {
   "cell_type": "code",
   "execution_count": 51,
   "id": "b0969a71",
   "metadata": {},
   "outputs": [
    {
     "name": "stderr",
     "output_type": "stream",
     "text": [
      "C:\\Users\\Hp\\anaconda3\\lib\\site-packages\\seaborn\\distributions.py:2619: FutureWarning: `distplot` is a deprecated function and will be removed in a future version. Please adapt your code to use either `displot` (a figure-level function with similar flexibility) or `histplot` (an axes-level function for histograms).\n",
      "  warnings.warn(msg, FutureWarning)\n"
     ]
    },
    {
     "data": {
      "image/png": "[encoded data removed]",
      "text/plain": [
       "<Figure size 432x288 with 1 Axes>"
      ]
     },
     "metadata": {},
     "output_type": "display_data"
    }
   ],
   "source": [
    "sns.distplot((y_test-predictions),bins=50);"
   ]
  },
  {
   "cell_type": "code",
   "execution_count": 22,
   "id": "333aadd0",
   "metadata": {},
   "outputs": [],
   "source": [
    "from sklearn import metrics"
   ]
  },
  {
   "cell_type": "code",
   "execution_count": 52,
   "id": "be68d34e",
   "metadata": {},
   "outputs": [
    {
     "name": "stdout",
     "output_type": "stream",
     "text": [
      "0.01681674526205068\n"
     ]
    }
   ],
   "source": [
    "print(metrics.r2_score(y_test, predictions))"
   ]
  },
  {
   "cell_type": "code",
   "execution_count": 24,
   "id": "fb8d5411",
   "metadata": {
    "scrolled": true
   },
   "outputs": [
    {
     "name": "stdout",
     "output_type": "stream",
     "text": [
      "MAE: 0.09143736346934986\n",
      "MSE: 0.014413331647070857\n",
      "RMSE: 0.12005553567858025\n"
     ]
    }
   ],
   "source": [
    "print('MAE:', metrics.mean_absolute_error(y_test, predictions))\n",
    "print('MSE:', metrics.mean_squared_error(y_test, predictions))\n",
    "print('RMSE:', np.sqrt(metrics.mean_squared_error(y_test, predictions)))"
   ]
  },
  {
   "cell_type": "code",
   "execution_count": null,
   "id": "24449c59",
   "metadata": {},
   "outputs": [],
   "source": []
  }
 ],
 "metadata": {
  "kernelspec": {
   "display_name": "Python 3 (ipykernel)",
   "language": "python",
   "name": "python3"
  },
  "language_info": {
   "codemirror_mode": {
    "name": "ipython",
    "version": 3
   },
   "file_extension": ".py",
   "mimetype": "text/x-python",
   "name": "python",
   "nbconvert_exporter": "python",
   "pygments_lexer": "ipython3",
   "version": "3.9.12"
  }
 },
 "nbformat": 4,
 "nbformat_minor": 5
}
